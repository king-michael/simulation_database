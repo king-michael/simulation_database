{
 "cells": [
  {
   "cell_type": "markdown",
   "metadata": {},
   "source": [
    "This tutorial will show how to setup a simulation database out of GROMACS simulations."
   ]
  },
  {
   "cell_type": "code",
   "execution_count": 1,
   "metadata": {},
   "outputs": [],
   "source": [
    "import os\n",
    "import logging\n",
    "import pandas as pd\n",
    "from datetime import datetime\n",
    "\n",
    "try:\n",
    "    import simdb\n",
    "except:\n",
    "    import sys\n",
    "    sys.path.append(\"../../../\") # need this if labjournal is not installed\n",
    "\n",
    "from simdb.utils.fileFinder import find_files\n",
    "from simdb.databaseModel import *\n",
    "from simdb.databaseAPI import *\n",
    "\n",
    "# GROMACS specific imports\n",
    "import simdb.utils.tpr_parser as tpr_parser\n",
    "\n",
    "# LAMMPS specific imports\n",
    "from simdb.utils import lammps_logfile_parser as llfp\n",
    "from support.fileHandler import FileHandler\n"
   ]
  },
  {
   "cell_type": "markdown",
   "metadata": {},
   "source": [
    "# Create database file"
   ]
  },
  {
   "cell_type": "code",
   "execution_count": 8,
   "metadata": {},
   "outputs": [],
   "source": [
    "# database file\n",
    "db = 'example_simulations.db'\n",
    "\n",
    "# remove old DB file\n",
    "if os.path.exists(db):\n",
    "    os.remove(db)\n",
    "\n",
    "engine = create_engine('sqlite:///{}'.format(db) , echo=False)\n",
    "\n",
    "# Establishing a session\n",
    "Session = sessionmaker(bind=engine)\n",
    "session = Session()\n",
    "setup_database(engine)\n",
    "\n",
    "\n",
    "session.close()"
   ]
  },
  {
   "cell_type": "markdown",
   "metadata": {},
   "source": [
    "# Add GROMACS simulations"
   ]
  },
  {
   "cell_type": "markdown",
   "metadata": {},
   "source": [
    "## Find simulations"
   ]
  },
  {
   "cell_type": "markdown",
   "metadata": {},
   "source": [
    "Before we can add simulations to our database, we have to find them. For this let's assume we have a folder structure like this:\n",
    "```\n",
    "simulations\n",
    "  |-- sim_01\n",
    "  |    |-- preproc (folder, contains stuff which was necessary to set up simulation)\n",
    "  |    |-- topol.tpr\n",
    "  |    |-- traj.xtc (optional)\n",
    "  |    |-- md.log   (optional)\n",
    "  |    *-- meta.csv\n",
    "  *-- sim_02\n",
    "       |-- topol.tpr\n",
    "       |-- traj.xtc (optional)\n",
    "       |-- md.log   (optional)\n",
    "       *-- meta.csv\n",
    "```\n",
    "There are many different ways to organize files from GROMACS simulations, but let's start with this simple example. \n",
    "\n",
    "The `topol.tpr` file will be used to mark a **simulation** which will be then an entry in our database. With this rule, it is quite simple to find all simulations with:"
   ]
  },
  {
   "cell_type": "code",
   "execution_count": null,
   "metadata": {},
   "outputs": [],
   "source": [
    "SIMS = \"../../example_simulations/GROMACS_simulations\"\n",
    "\n",
    "find_files(\n",
    "    pattern = 'topol.tpr', \n",
    "    path = SIMS, \n",
    "    dir_ignore = ['preproc']\n",
    ")"
   ]
  },
  {
   "cell_type": "markdown",
   "metadata": {},
   "source": [
    "We can now find all simulations and already collect some information about them."
   ]
  },
  {
   "cell_type": "code",
   "execution_count": null,
   "metadata": {},
   "outputs": [],
   "source": [
    "# ========================================= #\n",
    "# Find files\n",
    "# ========================================= #\n",
    "\n",
    "SIM_IDS=[]  # each simulation has a unique ID, we will use the name of the folder\n",
    "PATHS=[]    # path to each simulation\n",
    "METAS=[]    # additional information for each simulation\n",
    "\n",
    "for tpr_file in find_files(pattern = 'topol.tpr', path = SIMS, dir_ignore = ['data']):\n",
    "    \n",
    "    path =  os.path.dirname(tpr_file)\n",
    "    sim_id = os.path.basename(path)\n",
    "    \n",
    "    # load additional data if available\n",
    "    # this is a user generated file\n",
    "    try:\n",
    "        meta = pd.Series.from_csv(os.path.join(path, \"meta.csv\"))\n",
    "    except IOError:\n",
    "        meta = pd.Series()\n",
    "    \n",
    "    # add everything to lists\n",
    "    SIM_IDS.append(sim_id)\n",
    "    PATHS.append(path)\n",
    "    METAS.append(meta)\n",
    "\n",
    "print(SIM_IDS)"
   ]
  },
  {
   "cell_type": "markdown",
   "metadata": {},
   "source": [
    "## Add simulations"
   ]
  },
  {
   "cell_type": "code",
   "execution_count": null,
   "metadata": {},
   "outputs": [],
   "source": [
    "# open database\n",
    "session = connect_database(db_path=db)\n",
    "\n",
    "# a dummy user\n",
    "user = \"test\""
   ]
  },
  {
   "cell_type": "code",
   "execution_count": null,
   "metadata": {},
   "outputs": [],
   "source": [
    "# ========================================= #\n",
    "# GROMACS - specific settings\n",
    "# ========================================= #\n",
    "\n",
    "# GMXBIN=\"/home/soft/gromacs/gromacs-2018/inst/shared/bin/\"\n",
    "# GMXBIN=\"/home/soft/GROMACS/gromacs_2016.3_ompi-1.10.2_gcc-5.4/inst/oldcpu/bin/\"\n",
    "GMXBIN = !which gmx\n",
    "GMXBIN = os.path.dirname(GMXBIN[0])\n",
    "\n",
    "os.environ['GMXBIN'] = GMXBIN"
   ]
  },
  {
   "cell_type": "code",
   "execution_count": null,
   "metadata": {},
   "outputs": [],
   "source": [
    "# ========================================= #\n",
    "# add entries\n",
    "# ========================================= #\n",
    "\n",
    "for i, entry_id in enumerate(SIM_IDS):\n",
    "    \n",
    "    path = PATHS[i]\n",
    "    tpr_file = os.path.join(path, 'topol.tpr')\n",
    "    \n",
    "    # get information from TPR file\n",
    "    try:\n",
    "        mapped_keywords = tpr_parser.main(tpr_file)\n",
    "    except:\n",
    "        print(\"Was not able to read TPR file for {}. Try a newer GROMACS version.\".format(entry_id))\n",
    "        mapped_keywords = {}\n",
    "\n",
    "    meta = METAS[i]\n",
    "    try:\n",
    "        description = meta['note']\n",
    "        del meta['note']\n",
    "    except KeyError:\n",
    "        description = \"\"\n",
    "\n",
    "    # use either created on from meta file or when TPR file was generated\n",
    "    if 'created_on' in meta:\n",
    "        created_on = meta['created_on']\n",
    "        del meta['created_on']\n",
    "    else:\n",
    "        created_on = datetime.fromtimestamp(os.path.getmtime(tpr_file))\n",
    "\n",
    "    # nice function to create a database object\n",
    "    sim = store_dict(\n",
    "        entry_id           = entry_id,\n",
    "        path               = path,\n",
    "        sim_type           = \"GROMACS\",\n",
    "        description        = description,\n",
    "        created_on         = created_on,\n",
    "        owner              = user,\n",
    "        raw_mdp_parameters = mapped_keywords,\n",
    "        raw_keywords       = meta,\n",
    "    )\n",
    "\n",
    "    session.add(sim)\n",
    "    session.flush()\n",
    "\n",
    "# dont forget to commit and close session\n",
    "session.commit()\n",
    "session.close()"
   ]
  },
  {
   "cell_type": "code",
   "execution_count": null,
   "metadata": {},
   "outputs": [],
   "source": []
  },
  {
   "cell_type": "markdown",
   "metadata": {},
   "source": [
    "# Add LAMMPS simulations"
   ]
  },
  {
   "cell_type": "markdown",
   "metadata": {},
   "source": [
    "## Find simulations"
   ]
  },
  {
   "cell_type": "code",
   "execution_count": 3,
   "metadata": {},
   "outputs": [],
   "source": [
    "SIMS = \"../../example_simulations/LAMMPS_simulations/\"\n",
    "user = \"test\"\n",
    "\n",
    "# file finder settings for LAMMPS\n",
    "kwargs_fileFinder = dict(\n",
    "    pattern='_info_',\n",
    "    path=SIMS,\n",
    "    dir_ignore=['OLD', 'old', 'Old', 'TMP', 'tmp', 'rm', 'template', 'testcase', 'input_files'])"
   ]
  },
  {
   "cell_type": "code",
   "execution_count": 4,
   "metadata": {},
   "outputs": [],
   "source": [
    "# ============================================= #\n",
    "# find files\n",
    "# ============================================= #\n",
    "\n",
    "fileHandler = FileHandler()\n",
    "SIM_IDS=[]\n",
    "PATHS=[]\n",
    "DATAS=[]\n",
    "\n",
    "ERRORS=False\n",
    "WARNINGS=False\n",
    "\n",
    "for fname in find_files(**kwargs_fileFinder):\n",
    "    data = fileHandler.get_data_from_file(fname)\n",
    "    data['path']=os.path.dirname(fname)\n",
    "\n",
    "    SIM_IDS.append(data['ID'])\n",
    "\n",
    "    DATAS.append(data)\n",
    "    PATHS.append(fname)"
   ]
  },
  {
   "cell_type": "markdown",
   "metadata": {},
   "source": [
    "## Add simulations"
   ]
  },
  {
   "cell_type": "code",
   "execution_count": 9,
   "metadata": {},
   "outputs": [],
   "source": [
    "# open database\n",
    "session = connect_database(db_path=db)"
   ]
  },
  {
   "cell_type": "code",
   "execution_count": 10,
   "metadata": {},
   "outputs": [],
   "source": [
    "for data in DATAS:\n",
    "    sim = Main(\n",
    "        entry_id = data['ID'],\n",
    "        url = data['MEDIAWIKI'],\n",
    "        owner = user,\n",
    "        type='LAMMPS',\n",
    "        path = data['path'],\n",
    "        description = data['INFO'] if 'INFO' in data.keys() else \"\"\n",
    "    )\n",
    "    session.add(sim)\n",
    "# session.commit()\n",
    "\n",
    "\n",
    "# ============================================= #\n",
    "# add keywords\n",
    "# ============================================= #\n",
    "\n",
    "for sim_id in SIM_IDS:\n",
    "    sim = session.query(Main).filter(Main.entry_id == sim_id).one()\n",
    "    sim.keywords.extend([\n",
    "        Keywords(name='polymorph', value='calcite'),\n",
    "        Keywords(name='solvation state', value='bulk'),\n",
    "        Keywords(name='system state', value='crystalline'),\n",
    "        Keywords(name='force field', value='Raiteri2015'),\n",
    "    ])\n",
    "    session.add(sim)\n",
    "# session.commit()\n",
    "\n",
    "\n",
    "# ============================================= #\n",
    "# scan logfiles\n",
    "# ============================================= #\n",
    "\n",
    "for sim_id in SIM_IDS:\n",
    "    sim = session.query(Main).filter(Main.entry_id == sim_id).one()\n",
    "\n",
    "    logfiles = find_files(pattern='log.*.lammps',\n",
    "                      path=sim.path,\n",
    "                      dir_ignore=['build',\n",
    "                                  'analysis',\n",
    "                                  'EM_and_Equilibration'])\n",
    "\n",
    "    logfiles.sort(key=lambda x: int(\n",
    "        os.path.basename(x).replace('log.', '').replace('.lammps', '')\n",
    "    ))\n",
    "\n",
    "    dict_metagroups = llfp.logfile_to_metagroups(logfiles,\n",
    "                                                 combine=True,\n",
    "                                                 sort=False)\n",
    "\n",
    "    for meta_group_name, meta_group_data in dict_metagroups.items():\n",
    "        add_meta_data(session=session,\n",
    "                          entry_id=sim.entry_id,\n",
    "                          meta_group_name=meta_group_name,\n",
    "                          **meta_group_data)\n",
    "\n",
    "session.commit()\n",
    "session.close()"
   ]
  },
  {
   "cell_type": "code",
   "execution_count": null,
   "metadata": {},
   "outputs": [],
   "source": []
  }
 ],
 "metadata": {
  "kernelspec": {
   "display_name": "Python 3",
   "language": "python",
   "name": "python3"
  },
  "language_info": {
   "codemirror_mode": {
    "name": "ipython",
    "version": 3
   },
   "file_extension": ".py",
   "mimetype": "text/x-python",
   "name": "python",
   "nbconvert_exporter": "python",
   "pygments_lexer": "ipython3",
   "version": "3.5.2"
  }
 },
 "nbformat": 4,
 "nbformat_minor": 2
}
