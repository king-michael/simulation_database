{
 "cells": [
  {
   "cell_type": "code",
   "execution_count": 1,
   "metadata": {},
   "outputs": [
    {
     "name": "stdout",
     "output_type": "stream",
     "text": [
      "/home/andrejb/Software/simulation_database/simdb\n"
     ]
    }
   ],
   "source": [
    "% cd ../simdb/"
   ]
  },
  {
   "cell_type": "code",
   "execution_count": 5,
   "metadata": {},
   "outputs": [],
   "source": [
    "from app import db\n",
    "from databaseModel import Main, Keywords"
   ]
  },
  {
   "cell_type": "code",
   "execution_count": 4,
   "metadata": {},
   "outputs": [],
   "source": [
    "#db.session.query(Main).all()"
   ]
  },
  {
   "cell_type": "code",
   "execution_count": 8,
   "metadata": {},
   "outputs": [],
   "source": [
    "sim = db.session.query(Main).join(Keywords).first()"
   ]
  },
  {
   "cell_type": "code",
   "execution_count": 13,
   "metadata": {},
   "outputs": [
    {
     "data": {
      "text/plain": [
       "[Keywords(main_id='1', name='chainlen', value='2'),\n",
       " Keywords(main_id='1', name='ff', value='GROMOS'),\n",
       " Keywords(main_id='1', name='protein', value='UBQ'),\n",
       " Keywords(main_id='1', name='stype', value='expansion'),\n",
       " Keywords(main_id='1', name='expansion_type', value='cg_min_rnd'),\n",
       " Keywords(main_id='1', name='linker', value='k33'),\n",
       " Keywords(main_id='1', name='number', value='26'),\n",
       " Keywords(main_id='1', name='expansion_from', value='2016_11_26_2ub_k33_05'),\n",
       " Keywords(main_id='1', name='expansion_point', value='x_2.36_y_-1.97')]"
      ]
     },
     "execution_count": 13,
     "metadata": {},
     "output_type": "execute_result"
    }
   ],
   "source": [
    "list(sim.keywords)"
   ]
  },
  {
   "cell_type": "code",
   "execution_count": 21,
   "metadata": {},
   "outputs": [],
   "source": [
    "keywords = db.session.query(Keywords.name).filter(Keywords.value != None).distinct().all()"
   ]
  },
  {
   "cell_type": "code",
   "execution_count": 24,
   "metadata": {},
   "outputs": [],
   "source": [
    "k = keywords[0][0]"
   ]
  },
  {
   "cell_type": "code",
   "execution_count": 36,
   "metadata": {},
   "outputs": [
    {
     "data": {
      "text/plain": [
       "u'2'"
      ]
     },
     "execution_count": 36,
     "metadata": {},
     "output_type": "execute_result"
    }
   ],
   "source": [
    "sim.keywords.filter(Keywords.name == k).one().value"
   ]
  },
  {
   "cell_type": "code",
   "execution_count": 42,
   "metadata": {},
   "outputs": [],
   "source": [
    "sim.keywords.filter_by(name='bal').first()"
   ]
  },
  {
   "cell_type": "code",
   "execution_count": 44,
   "metadata": {},
   "outputs": [],
   "source": [
    "sim = db.session.query(Main).first()"
   ]
  },
  {
   "cell_type": "code",
   "execution_count": 46,
   "metadata": {},
   "outputs": [
    {
     "data": {
      "text/plain": [
       "[Keywords(main_id='1', name='chainlen', value='2'),\n",
       " Keywords(main_id='1', name='ff', value='GROMOS'),\n",
       " Keywords(main_id='1', name='protein', value='UBQ'),\n",
       " Keywords(main_id='1', name='stype', value='expansion'),\n",
       " Keywords(main_id='1', name='expansion_type', value='cg_min_rnd'),\n",
       " Keywords(main_id='1', name='linker', value='k33'),\n",
       " Keywords(main_id='1', name='number', value='26'),\n",
       " Keywords(main_id='1', name='expansion_from', value='2016_11_26_2ub_k33_05'),\n",
       " Keywords(main_id='1', name='expansion_point', value='x_2.36_y_-1.97')]"
      ]
     },
     "execution_count": 46,
     "metadata": {},
     "output_type": "execute_result"
    }
   ],
   "source": [
    "list(sim.keywords)"
   ]
  },
  {
   "cell_type": "code",
   "execution_count": null,
   "metadata": {},
   "outputs": [],
   "source": []
  }
 ],
 "metadata": {
  "kernelspec": {
   "display_name": "Python 2",
   "language": "python",
   "name": "python2"
  },
  "language_info": {
   "codemirror_mode": {
    "name": "ipython",
    "version": 2
   },
   "file_extension": ".py",
   "mimetype": "text/x-python",
   "name": "python",
   "nbconvert_exporter": "python",
   "pygments_lexer": "ipython2",
   "version": "2.7.12"
  }
 },
 "nbformat": 4,
 "nbformat_minor": 2
}
