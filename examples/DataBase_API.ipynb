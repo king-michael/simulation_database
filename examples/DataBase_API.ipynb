{
 "cells": [
  {
   "cell_type": "code",
   "execution_count": 1,
   "metadata": {},
   "outputs": [],
   "source": [
    "from __future__ import print_function\n",
    "import numpy as np\n",
    "import pandas as pd"
   ]
  },
  {
   "cell_type": "code",
   "execution_count": 2,
   "metadata": {},
   "outputs": [],
   "source": [
    "import sys\n",
    "sys.path.append(\"..\")\n",
    "from simdb.databaseModel import *\n",
    "import simdb.databaseAPI as api"
   ]
  },
  {
   "cell_type": "code",
   "execution_count": 3,
   "metadata": {},
   "outputs": [],
   "source": [
    "# db_path = 'test_WORKS.db'\n",
    "db_path = '../examples/setup_databases/andrej/andrej_raw.db'"
   ]
  },
  {
   "cell_type": "code",
   "execution_count": 4,
   "metadata": {},
   "outputs": [],
   "source": [
    "from sqlalchemy import or_, and_, or_"
   ]
  },
  {
   "cell_type": "markdown",
   "metadata": {},
   "source": [
    "## For migration to databaseAPI:"
   ]
  },
  {
   "cell_type": "code",
   "execution_count": null,
   "metadata": {},
   "outputs": [],
   "source": [
    "session = api.connect_database(db_path)"
   ]
  },
  {
   "cell_type": "code",
   "execution_count": null,
   "metadata": {},
   "outputs": [],
   "source": [
    "gk = GroupKeywords(name=\"Chain1\", value=\"resid 1-72\")"
   ]
  },
  {
   "cell_type": "code",
   "execution_count": null,
   "metadata": {},
   "outputs": [],
   "source": [
    "session.query(Groups).filter(Groups.name == \"Group 1\").one()"
   ]
  },
  {
   "cell_type": "code",
   "execution_count": null,
   "metadata": {},
   "outputs": [],
   "source": [
    "session.query(Main).join(association_main_groups).join(Groups).filter(Groups.name == \"Group 2\").count()"
   ]
  },
  {
   "cell_type": "code",
   "execution_count": null,
   "metadata": {},
   "outputs": [],
   "source": [
    "api.get_all_groups(session=session)"
   ]
  },
  {
   "cell_type": "code",
   "execution_count": null,
   "metadata": {},
   "outputs": [],
   "source": [
    "query = session.query(Main.entry_id).join(association_main_groups).join(Groups).join(Keywords)"
   ]
  },
  {
   "cell_type": "code",
   "execution_count": null,
   "metadata": {},
   "outputs": [],
   "source": [
    "query.filter(Groups.name == \"Group 2\", Keywords.name == \"linker\").count()"
   ]
  },
  {
   "cell_type": "code",
   "execution_count": null,
   "metadata": {},
   "outputs": [],
   "source": [
    "query.filter(Groups.name == \"Group 1\", Keywords.name == \"seq\").count()"
   ]
  },
  {
   "cell_type": "code",
   "execution_count": null,
   "metadata": {},
   "outputs": [],
   "source": []
  },
  {
   "cell_type": "markdown",
   "metadata": {},
   "source": [
    "## HowTo"
   ]
  },
  {
   "cell_type": "markdown",
   "metadata": {},
   "source": [
    "### Load Entry Table"
   ]
  },
  {
   "cell_type": "code",
   "execution_count": null,
   "metadata": {},
   "outputs": [],
   "source": [
    "with api.session_handler(db_path) as s:\n",
    "    table = api.get_entry_table(s) # load whole table\n",
    "table"
   ]
  },
  {
   "cell_type": "code",
   "execution_count": null,
   "metadata": {
    "scrolled": true
   },
   "outputs": [],
   "source": [
    "# f = and_(Main.keywords.any(name=\"linker\", value=\"k48\"), Main.keywords.any(name=\"ff\", value=\"MARTINI\"))\n",
    "f = Main.keywords.any(name=\"expansion_type\", value=\"cg_min_rnd\")\n",
    "with api.session_handler(db_path) as s:\n",
    "    table = api.get_entry_table(s, apply_filter=f) # load whole table\n",
    "table"
   ]
  },
  {
   "cell_type": "code",
   "execution_count": null,
   "metadata": {},
   "outputs": [],
   "source": [
    "f = Main.keywords.any(name=\"linker\", value=\"k48\")\n",
    "with api.session_handler(db_path) as s:\n",
    "    table = api.get_entry_table(s, apply_filter=f) # load whole table\n",
    "table"
   ]
  },
  {
   "cell_type": "code",
   "execution_count": null,
   "metadata": {},
   "outputs": [],
   "source": [
    "f = Main.keywords.any(name=\"temp\", value=\"300\")\n",
    "with api.session_handler(db_path) as s:\n",
    "    table = api.get_entry_table(s, apply_filter=f) # load whole table\n",
    "table"
   ]
  },
  {
   "cell_type": "markdown",
   "metadata": {},
   "source": [
    "### Obtain data for certain entry"
   ]
  },
  {
   "cell_type": "code",
   "execution_count": null,
   "metadata": {},
   "outputs": [],
   "source": [
    "# opbtain all details as dictionary\n",
    "entry_id = \"2017_04_21_fat10_FL_exp_03\"\n",
    "\n",
    "with api.session_handler(db_path) as s:\n",
    "    details = api.get_entry_details(s, entry_id)\n",
    "details"
   ]
  },
  {
   "cell_type": "markdown",
   "metadata": {},
   "source": [
    "### Select entries"
   ]
  },
  {
   "cell_type": "code",
   "execution_count": null,
   "metadata": {},
   "outputs": [],
   "source": [
    "table[selectByTag(table, \"test\")] # select by tag"
   ]
  },
  {
   "cell_type": "code",
   "execution_count": null,
   "metadata": {},
   "outputs": [],
   "source": [
    "table[selectByKeyword(table, \"ff\", \"MARTINI\")] # select by keyword"
   ]
  },
  {
   "cell_type": "code",
   "execution_count": null,
   "metadata": {},
   "outputs": [],
   "source": [
    "# combinations of selections\n",
    "ff       = selectByKeyword(table, \"ff\", \"MARTINI\")\n",
    "chainlen = selectByKeyword(table, \"chainlen\", \"1\")\n",
    "tags     = selectByTag(table, \"test2\")\n",
    "\n",
    "table[ff & chainlen & tags]"
   ]
  },
  {
   "cell_type": "code",
   "execution_count": null,
   "metadata": {},
   "outputs": [],
   "source": [
    "# another example\n",
    "ff       = selectByKeyword(table, \"ff\", \"MARTINI\")\n",
    "chainlen = selectByKeyword(table, \"chainlen\", \"2\")\n",
    "linker1  = selectByKeyword(table, \"linker\", \"k48\")\n",
    "linker2  = selectByKeyword(table, \"linker\", \"k63\")\n",
    "number   = selectByKeyword(table, \"number\", \"01\")\n",
    "\n",
    "table[ff & chainlen & (linker1 | linker2) & ~number]"
   ]
  },
  {
   "cell_type": "markdown",
   "metadata": {},
   "source": [
    "### Working with groups"
   ]
  },
  {
   "cell_type": "code",
   "execution_count": 9,
   "metadata": {},
   "outputs": [],
   "source": [
    "with api.session_handler(db_path) as s:\n",
    "    table = api.get_entry_table(s, keyword_names=[\"linker\"])\n",
    "    \n",
    "    for entry_id in table.entry_id:\n",
    "        api.add_to_group(s, entry_id, \"Group 1\")\n",
    "    \n",
    "    s.commit()"
   ]
  },
  {
   "cell_type": "code",
   "execution_count": null,
   "metadata": {},
   "outputs": [],
   "source": []
  },
  {
   "cell_type": "code",
   "execution_count": null,
   "metadata": {},
   "outputs": [],
   "source": [
    "f = Main.keywords.any(name=\"linker\", value=\"k48\")\n",
    "with api.session_handler(db_path) as s:\n",
    "    table = api.get_entry_table(s, apply_filter=f) # load whole table\n",
    "table"
   ]
  },
  {
   "cell_type": "code",
   "execution_count": null,
   "metadata": {},
   "outputs": [],
   "source": [
    "[api.add_group(db_path, entry_id, \"Group 2\") for entry_id in table.entry_id]"
   ]
  },
  {
   "cell_type": "code",
   "execution_count": null,
   "metadata": {},
   "outputs": [],
   "source": [
    "# add some entries to a group\n",
    "sel = table[selectByKeyword(table, \"linker\", \"k48\")]\n",
    "[add_group(db_path, entry_id, \"Group 1\") for entry_id in sel.entry_id]\n",
    "\n",
    "# a second group\n",
    "sel = table[selectByKeyword(table, \"ff\", \"MARTINI\")]\n",
    "[add_group(db_path, entry_id, \"Group 2\") for entry_id in sel.entry_id]"
   ]
  },
  {
   "cell_type": "code",
   "execution_count": null,
   "metadata": {},
   "outputs": [],
   "source": [
    "# get entries of group 1\n",
    "entry_group_table1 = get_entry_table(db_path, group_names=[\"Group 1\"], columns=[\"entry_id\", \"path\"])\n",
    "print(\"{} entries loaded.\".format(entry_group_table1.shape[0]))\n",
    "\n",
    "# get entries of group 2\n",
    "entry_group_table2 = get_entry_table(db_path, group_names=[\"Group 2\"], columns=[\"entry_id\", \"path\"])\n",
    "print(\"{} entries loaded.\".format(entry_group_table2.shape[0]))"
   ]
  },
  {
   "cell_type": "code",
   "execution_count": null,
   "metadata": {},
   "outputs": [],
   "source": [
    "# get entries from both groups\n",
    "# some entries might be in both groups\n",
    "merged_table = get_entry_table(db_path, group_names=[\"Group 1\", \"Group 2\"], columns=[\"entry_id\", \"path\"])\n",
    "print(\"Merge results in {} entries.\".format(merged_table.shape[0]))"
   ]
  },
  {
   "cell_type": "code",
   "execution_count": null,
   "metadata": {},
   "outputs": [],
   "source": [
    "# remove some etnries from Group 1\n",
    "sel = table[selectByKeyword(table, \"ff\", \"MARTINI\")]\n",
    "[remove_group(db_path, entry_id, \"Group 1\") for entry_id in sel.entry_id]"
   ]
  },
  {
   "cell_type": "code",
   "execution_count": null,
   "metadata": {},
   "outputs": [],
   "source": [
    "session = api.connect_database(db_path=db_path)\n",
    "# groups = api.get_all_groups(session=session)"
   ]
  },
  {
   "cell_type": "code",
   "execution_count": null,
   "metadata": {},
   "outputs": [],
   "source": []
  },
  {
   "cell_type": "markdown",
   "metadata": {},
   "source": [
    "### Usefull for backend / viewer"
   ]
  },
  {
   "cell_type": "code",
   "execution_count": null,
   "metadata": {},
   "outputs": [],
   "source": [
    "# open database (in SQLAlchemy we open a session)\n",
    "# s = openDatabase(db_path) \n",
    "# one should not keep the DB open\n",
    "\n",
    "# better:\n",
    "with api.session_handler(db_path) as s:\n",
    "    keywords = api.get_all_keywords(s)  # get all keyword with the values they have\n",
    "pd.Series(keywords)"
   ]
  },
  {
   "cell_type": "code",
   "execution_count": null,
   "metadata": {},
   "outputs": [],
   "source": [
    "with session_handler(db_path) as s:\n",
    "    groups = get_all_groups(s)  # get all groups in DB\n",
    "groups"
   ]
  },
  {
   "cell_type": "code",
   "execution_count": null,
   "metadata": {},
   "outputs": [],
   "source": []
  },
  {
   "cell_type": "markdown",
   "metadata": {},
   "source": [
    "## Add, edit remove Metadata"
   ]
  },
  {
   "cell_type": "code",
   "execution_count": null,
   "metadata": {},
   "outputs": [],
   "source": [
    "s = open_database(db_path)"
   ]
  },
  {
   "cell_type": "code",
   "execution_count": null,
   "metadata": {},
   "outputs": [],
   "source": [
    "entry = s.query(Main).filter(Main.entry_id == entry_id).first()\n",
    "# entry.keywords"
   ]
  },
  {
   "cell_type": "code",
   "execution_count": null,
   "metadata": {},
   "outputs": [],
   "source": [
    "entry.meta.all()"
   ]
  },
  {
   "cell_type": "code",
   "execution_count": null,
   "metadata": {},
   "outputs": [],
   "source": [
    "mg = entry.meta.filter_by(name=\"barostat\").first()"
   ]
  },
  {
   "cell_type": "code",
   "execution_count": null,
   "metadata": {},
   "outputs": [],
   "source": [
    "mg.entries.all()"
   ]
  },
  {
   "cell_type": "code",
   "execution_count": null,
   "metadata": {},
   "outputs": [],
   "source": [
    "entry.groups"
   ]
  },
  {
   "cell_type": "code",
   "execution_count": null,
   "metadata": {},
   "outputs": [],
   "source": [
    "s.close()"
   ]
  },
  {
   "cell_type": "code",
   "execution_count": null,
   "metadata": {},
   "outputs": [],
   "source": []
  },
  {
   "cell_type": "markdown",
   "metadata": {},
   "source": [
    "### Tags"
   ]
  },
  {
   "cell_type": "code",
   "execution_count": null,
   "metadata": {},
   "outputs": [],
   "source": [
    "add_tag(db_path, entry_id, \"my_tag\")"
   ]
  },
  {
   "cell_type": "code",
   "execution_count": null,
   "metadata": {},
   "outputs": [],
   "source": [
    "remove_tag(db_path, entry_id, \"my_tag\")"
   ]
  },
  {
   "cell_type": "code",
   "execution_count": null,
   "metadata": {},
   "outputs": [],
   "source": []
  },
  {
   "cell_type": "markdown",
   "metadata": {},
   "source": [
    "### Keywords"
   ]
  },
  {
   "cell_type": "code",
   "execution_count": null,
   "metadata": {},
   "outputs": [],
   "source": [
    "# add two keywords to certain entry\n",
    "add_keyword(db_path, entry_id, keyword1=\"bla\", keyword2=\"blub\")"
   ]
  },
  {
   "cell_type": "code",
   "execution_count": null,
   "metadata": {},
   "outputs": [],
   "source": [
    "# alter keyword1 of entry\n",
    "alter_keyword(db_path, entry_id, keyword1=\"my_value\")"
   ]
  },
  {
   "cell_type": "code",
   "execution_count": null,
   "metadata": {},
   "outputs": [],
   "source": [
    "# remove keyword2 if it is \"blub\" and force remove keyword1\n",
    "remove_keyword(db_path, entry_id, keyword1=None, keyword2=\"blub\")"
   ]
  },
  {
   "cell_type": "code",
   "execution_count": null,
   "metadata": {},
   "outputs": [],
   "source": []
  },
  {
   "cell_type": "markdown",
   "metadata": {},
   "source": [
    "### Meta information"
   ]
  },
  {
   "cell_type": "code",
   "execution_count": null,
   "metadata": {},
   "outputs": [],
   "source": [
    "meta_group_name = \"More Information\""
   ]
  },
  {
   "cell_type": "code",
   "execution_count": null,
   "metadata": {},
   "outputs": [],
   "source": [
    "# add some information to entry\n",
    "add_meta_group(db_path, entry_id, meta_group_name)\n",
    "add_meta_data(db_path, entry_id, meta_group_name, \n",
    "              run=\"the best one\", \n",
    "              importance=\"rather large\", \n",
    "              version=\"quite new\")"
   ]
  },
  {
   "cell_type": "code",
   "execution_count": null,
   "metadata": {},
   "outputs": [],
   "source": [
    "alter_meta_data(db_path, entry_id, meta_group_name,\n",
    "               run = \"actually not that good\")"
   ]
  },
  {
   "cell_type": "code",
   "execution_count": null,
   "metadata": {},
   "outputs": [],
   "source": [
    "# remove some meta data entries from group\n",
    "remove_meta_data(db_path, entry_id, meta_group_name,\n",
    "                run=None,\n",
    "                version=\"quite new\")\n",
    "\n",
    "# or remove the whole group\n",
    "remove_meta_group(db_path, entry_id, meta_group_name)"
   ]
  },
  {
   "cell_type": "code",
   "execution_count": null,
   "metadata": {},
   "outputs": [],
   "source": [
    "# check out changes\n",
    "pd.DataFrame(get_entry_details(db_path, entry_id)['meta'])"
   ]
  },
  {
   "cell_type": "markdown",
   "metadata": {},
   "source": [
    "### Running functions"
   ]
  },
  {
   "cell_type": "markdown",
   "metadata": {},
   "source": [
    "## Deva"
   ]
  },
  {
   "cell_type": "markdown",
   "metadata": {},
   "source": [
    "* Add tags/keywords to all simulations in pandas table\n",
    "* Add simulations to DB from pandas table"
   ]
  },
  {
   "cell_type": "code",
   "execution_count": null,
   "metadata": {},
   "outputs": [],
   "source": []
  },
  {
   "cell_type": "code",
   "execution_count": null,
   "metadata": {},
   "outputs": [],
   "source": []
  },
  {
   "cell_type": "code",
   "execution_count": null,
   "metadata": {},
   "outputs": [],
   "source": []
  },
  {
   "cell_type": "code",
   "execution_count": null,
   "metadata": {},
   "outputs": [],
   "source": []
  }
 ],
 "metadata": {
  "kernelspec": {
   "display_name": "Python 2",
   "language": "python",
   "name": "python2"
  },
  "language_info": {
   "codemirror_mode": {
    "name": "ipython",
    "version": 2
   },
   "file_extension": ".py",
   "mimetype": "text/x-python",
   "name": "python",
   "nbconvert_exporter": "python",
   "pygments_lexer": "ipython2",
   "version": "2.7.12"
  },
  "toc": {
   "base_numbering": 1,
   "nav_menu": {},
   "number_sections": true,
   "sideBar": true,
   "skip_h1_title": false,
   "title_cell": "Table of Contents",
   "title_sidebar": "Contents",
   "toc_cell": false,
   "toc_position": {},
   "toc_section_display": true,
   "toc_window_display": false
  }
 },
 "nbformat": 4,
 "nbformat_minor": 2
}
