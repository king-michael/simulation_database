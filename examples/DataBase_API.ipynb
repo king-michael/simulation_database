{
 "cells": [
  {
   "cell_type": "code",
   "execution_count": 1,
   "metadata": {},
   "outputs": [],
   "source": [
    "from __future__ import print_function\n",
    "import numpy as np\n",
    "import pandas as pd"
   ]
  },
  {
   "cell_type": "code",
   "execution_count": 2,
   "metadata": {},
   "outputs": [],
   "source": [
    "import sys\n",
    "sys.path.append(\"..\")\n",
    "from simdb.databaseModel import *\n",
    "from simdb.databaseAPI import *"
   ]
  },
  {
   "cell_type": "code",
   "execution_count": 3,
   "metadata": {},
   "outputs": [],
   "source": [
    "# db_path = 'test_WORKS.db'\n",
    "db_path = '../examples/setup_databases/andrej_raw.db'"
   ]
  },
  {
   "cell_type": "code",
   "execution_count": 4,
   "metadata": {},
   "outputs": [],
   "source": [
    "from sqlalchemy import or_, and_"
   ]
  },
  {
   "cell_type": "markdown",
   "metadata": {},
   "source": [
    "## For migration to databaseAPI:"
   ]
  },
  {
   "cell_type": "code",
   "execution_count": null,
   "metadata": {},
   "outputs": [],
   "source": [
    "from sqlalchemy import create_engine\n",
    "from sqlalchemy.orm import sessionmaker"
   ]
  },
  {
   "cell_type": "code",
   "execution_count": null,
   "metadata": {},
   "outputs": [],
   "source": [
    "class DatabaseConnection(object):\n",
    "    \n",
    "    def __init__(self, db_path):\n",
    "        self.db_path = db_path\n",
    "        self.session = None\n",
    "        \n",
    "\n",
    "    def __enter__(self):\n",
    "        # make a database connection and return it\n",
    "        if not os.path.exists(self.db_path):\n",
    "            raise \"%s does not exist.\"\n",
    "        \n",
    "        engine = create_engine('sqlite:///{}'.format(self.db_path))\n",
    "        Session = sessionmaker()\n",
    "        self.session = Session(bind=engine)\n",
    "        \n",
    "        return self\n",
    "\n",
    "    def __exit__(self, exc_type, exc_val, exc_tb):\n",
    "        self.session.close()"
   ]
  },
  {
   "cell_type": "code",
   "execution_count": null,
   "metadata": {},
   "outputs": [],
   "source": [
    "\n",
    "class SQLAlchemyDBConnection(object):\n",
    "    \"\"\"SQLAlchemy database connection\"\"\"\n",
    "\n",
    "    def __init__(self, connection_string):\n",
    "        self.connection_string = connection_string\n",
    "        self.session = None\n",
    "\n",
    "    def __enter__(self):\n",
    "        engine = create_engine(self.connection_string)\n",
    "        Session = sessionmaker()\n",
    "        self.session = Session(bind=engine)\n",
    "        return self\n",
    "\n",
    "    def __exit__(self, exc_type, exc_val, exc_tb):\n",
    "        self.session.close()"
   ]
  },
  {
   "cell_type": "code",
   "execution_count": null,
   "metadata": {},
   "outputs": [],
   "source": [
    "with DatabaseConnection(db_path) as db:\n",
    "    print db.session.query(Keywords)"
   ]
  },
  {
   "cell_type": "code",
   "execution_count": null,
   "metadata": {},
   "outputs": [],
   "source": [
    "q = s.session.query(Keywords)\n",
    "[e.name for e in q.filter(Keywords.value != None).all()]"
   ]
  },
  {
   "cell_type": "code",
   "execution_count": null,
   "metadata": {},
   "outputs": [],
   "source": [
    "s.close()"
   ]
  },
  {
   "cell_type": "code",
   "execution_count": null,
   "metadata": {},
   "outputs": [],
   "source": [
    "s.add(Main())"
   ]
  },
  {
   "cell_type": "code",
   "execution_count": null,
   "metadata": {},
   "outputs": [],
   "source": [
    "s.commit()"
   ]
  },
  {
   "cell_type": "code",
   "execution_count": null,
   "metadata": {},
   "outputs": [],
   "source": [
    "s.close()"
   ]
  },
  {
   "cell_type": "markdown",
   "metadata": {},
   "source": [
    "## HowTo"
   ]
  },
  {
   "cell_type": "markdown",
   "metadata": {},
   "source": [
    "### Load Entry Table"
   ]
  },
  {
   "cell_type": "code",
   "execution_count": null,
   "metadata": {},
   "outputs": [],
   "source": [
    "table = getEntryTable(db_path, load_keys=True, load_tags=True) # load whole table"
   ]
  },
  {
   "cell_type": "code",
   "execution_count": null,
   "metadata": {},
   "outputs": [],
   "source": [
    "table"
   ]
  },
  {
   "cell_type": "markdown",
   "metadata": {},
   "source": [
    "### Obtain data for certain entry"
   ]
  },
  {
   "cell_type": "code",
   "execution_count": null,
   "metadata": {},
   "outputs": [],
   "source": [
    "entry_id = \"2017_08_01_2ub_k27_02_06\""
   ]
  },
  {
   "cell_type": "code",
   "execution_count": null,
   "metadata": {},
   "outputs": [],
   "source": [
    "getEntryDetails(db_path, entry_id)"
   ]
  },
  {
   "cell_type": "code",
   "execution_count": null,
   "metadata": {},
   "outputs": [],
   "source": [
    "getEntryMeta(db_path, entry_id)"
   ]
  },
  {
   "cell_type": "code",
   "execution_count": null,
   "metadata": {},
   "outputs": [],
   "source": [
    "getEntryKeywords(db_path, entry_id)"
   ]
  },
  {
   "cell_type": "code",
   "execution_count": null,
   "metadata": {},
   "outputs": [],
   "source": [
    "getEntryTags(db_path, entry_id)"
   ]
  },
  {
   "cell_type": "markdown",
   "metadata": {},
   "source": [
    "### Select entries"
   ]
  },
  {
   "cell_type": "code",
   "execution_count": null,
   "metadata": {},
   "outputs": [],
   "source": [
    "table[selectByTag(table, \"test\")] # select by tag"
   ]
  },
  {
   "cell_type": "code",
   "execution_count": null,
   "metadata": {},
   "outputs": [],
   "source": [
    "table[selectByKeyword(table, \"ff\", \"MARTINI\")] # select by keyword"
   ]
  },
  {
   "cell_type": "code",
   "execution_count": null,
   "metadata": {},
   "outputs": [],
   "source": [
    "# combinations of selections\n",
    "ff       = selectByKeyword(table, \"ff\", \"MARTINI\")\n",
    "chainlen = selectByKeyword(table, \"chainlen\", \"1\")\n",
    "tags     = selectByTag(table, \"test2\")\n",
    "\n",
    "table[ff & chainlen & tags]"
   ]
  },
  {
   "cell_type": "code",
   "execution_count": null,
   "metadata": {},
   "outputs": [],
   "source": [
    "# another example\n",
    "ff       = selectByKeyword(table, \"ff\", \"MARTINI\")\n",
    "chainlen = selectByKeyword(table, \"chainlen\", \"2\")\n",
    "linker1  = selectByKeyword(table, \"linker\", \"k48\")\n",
    "linker2  = selectByKeyword(table, \"linker\", \"k63\")\n",
    "number   = selectByKeyword(table, \"number\", \"01\")\n",
    "\n",
    "table[ff & chainlen & (linker1 | linker2) & ~number]"
   ]
  },
  {
   "cell_type": "markdown",
   "metadata": {},
   "source": [
    "### Working with groups"
   ]
  },
  {
   "cell_type": "code",
   "execution_count": null,
   "metadata": {},
   "outputs": [],
   "source": [
    "# add some entries to a group\n",
    "sel = table[selectByKeyword(table, \"linker\", \"k48\")]\n",
    "add_to_group(db_path, sel.entry_id, \"Group 1\")\n",
    "\n",
    "# a second group\n",
    "sel = table[selectByKeyword(table, \"ff\", \"MARTINI\")]\n",
    "add_to_group(db_path, sel.entry_id, \"Group 2\")"
   ]
  },
  {
   "cell_type": "code",
   "execution_count": 5,
   "metadata": {},
   "outputs": [
    {
     "name": "stdout",
     "output_type": "stream",
     "text": [
      "85 entries loaded.\n",
      "183 entries loaded.\n"
     ]
    }
   ],
   "source": [
    "# get entries of group 1\n",
    "entry_group_table1 = get_entry_table(db_path, group_names=[\"Group 1\"], columns=[\"entry_id\", \"path\"])\n",
    "print(\"{} entries loaded.\".format(entry_group_table1.shape[0]))\n",
    "\n",
    "# get entries of group 2\n",
    "entry_group_table2 = get_entry_table(db_path, group_names=[\"Group 2\"], columns=[\"entry_id\", \"path\"])\n",
    "print(\"{} entries loaded.\".format(entry_group_table2.shape[0]))"
   ]
  },
  {
   "cell_type": "code",
   "execution_count": 7,
   "metadata": {},
   "outputs": [
    {
     "name": "stdout",
     "output_type": "stream",
     "text": [
      "Merge results in 252 entries.\n"
     ]
    }
   ],
   "source": [
    "# get entries from both groups\n",
    "# some entries might be in both groups\n",
    "merged_table = get_entry_table(db_path, group_names=[\"Group 1\", \"Group 2\"], columns=[\"entry_id\", \"path\"])\n",
    "print(\"Merge results in {} entries.\".format(merged_table.shape[0]))"
   ]
  },
  {
   "cell_type": "markdown",
   "metadata": {},
   "source": [
    "### Usefull for backend / viewer"
   ]
  },
  {
   "cell_type": "code",
   "execution_count": null,
   "metadata": {},
   "outputs": [],
   "source": [
    "# open database (in SQLAlchemy we open a session)\n",
    "# s = openDatabase(db_path) \n",
    "# one should not keep the DB open\n",
    "\n",
    "# better:\n",
    "with openDatabase(db_path) as db:\n",
    "    print db\n",
    "    "
   ]
  },
  {
   "cell_type": "code",
   "execution_count": null,
   "metadata": {},
   "outputs": [],
   "source": [
    "getTags(db_path)  # get all tags which are used in DB"
   ]
  },
  {
   "cell_type": "code",
   "execution_count": null,
   "metadata": {},
   "outputs": [],
   "source": [
    "keywords = getKeywords(db_path)  # get all keyword with the values they have\n",
    "pd.Series(keywords) "
   ]
  },
  {
   "cell_type": "code",
   "execution_count": null,
   "metadata": {},
   "outputs": [],
   "source": [
    "get_groups(db_path)"
   ]
  },
  {
   "cell_type": "markdown",
   "metadata": {},
   "source": [
    "### Running functions"
   ]
  },
  {
   "cell_type": "markdown",
   "metadata": {},
   "source": [
    "## Deva"
   ]
  },
  {
   "cell_type": "markdown",
   "metadata": {},
   "source": [
    "* Add tags/keywords to all simulations in pandas table\n",
    "* Add simulations to DB from pandas table"
   ]
  },
  {
   "cell_type": "code",
   "execution_count": null,
   "metadata": {},
   "outputs": [],
   "source": []
  },
  {
   "cell_type": "code",
   "execution_count": null,
   "metadata": {},
   "outputs": [],
   "source": []
  },
  {
   "cell_type": "code",
   "execution_count": null,
   "metadata": {},
   "outputs": [],
   "source": []
  },
  {
   "cell_type": "code",
   "execution_count": null,
   "metadata": {},
   "outputs": [],
   "source": []
  }
 ],
 "metadata": {
  "kernelspec": {
   "display_name": "Python 2",
   "language": "python",
   "name": "python2"
  },
  "language_info": {
   "codemirror_mode": {
    "name": "ipython",
    "version": 2
   },
   "file_extension": ".py",
   "mimetype": "text/x-python",
   "name": "python",
   "nbconvert_exporter": "python",
   "pygments_lexer": "ipython2",
   "version": "2.7.12"
  },
  "toc": {
   "base_numbering": 1,
   "nav_menu": {},
   "number_sections": true,
   "sideBar": true,
   "skip_h1_title": false,
   "title_cell": "Table of Contents",
   "title_sidebar": "Contents",
   "toc_cell": false,
   "toc_position": {},
   "toc_section_display": true,
   "toc_window_display": false
  }
 },
 "nbformat": 4,
 "nbformat_minor": 2
}
