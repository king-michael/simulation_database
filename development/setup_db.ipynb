{
 "cells": [
  {
   "cell_type": "code",
   "execution_count": null,
   "metadata": {},
   "outputs": [],
   "source": [
    "import os\n",
    "import logging\n",
    "import pandas as pd\n",
    "logger = logging.getLogger('LabJournal')\n",
    "logging.basicConfig(level=logging.DEBUG)"
   ]
  },
  {
   "cell_type": "code",
   "execution_count": null,
   "metadata": {},
   "outputs": [],
   "source": [
    "import sys\n",
    "sys.path.append(\"../\") # need this if labjournal is not installed\n",
    "\n",
    "from simdb.utils.fileFinder import find_files\n",
    "from simdb.databaseModel import *"
   ]
  },
  {
   "cell_type": "code",
   "execution_count": null,
   "metadata": {},
   "outputs": [],
   "source": [
    "SIMS = '/home/andrejb/Research/SIMS'"
   ]
  },
  {
   "cell_type": "code",
   "execution_count": null,
   "metadata": {},
   "outputs": [],
   "source": [
    "logger.info('create_database:create_database: FIND FILES')\n",
    "ERRORS=False\n",
    "WARNINGS=False"
   ]
  },
  {
   "cell_type": "code",
   "execution_count": null,
   "metadata": {},
   "outputs": [],
   "source": [
    "%%time\n",
    "SIM_IDS=[]\n",
    "PATHS=[]\n",
    "METAS=[]\n",
    "\n",
    "for fname in find_files(pattern = 'topol.tpr', path = SIMS, dir_ignore = ['data']):\n",
    "    path =  os.path.dirname(fname)\n",
    "    sim_id = os.path.basename(path)\n",
    "    meta = pd.Series.from_csv(os.path.join(path, \"meta.csv\"))\n",
    "    SIM_IDS.append(sim_id)\n",
    "    PATHS.append(path)\n",
    "    METAS.append(meta)"
   ]
  },
  {
   "cell_type": "code",
   "execution_count": null,
   "metadata": {},
   "outputs": [],
   "source": [
    "db = 'andrej_raw.db'\n",
    "# remove old DB\n",
    "try:\n",
    "    os.remove(db)\n",
    "    logger.info('create_database:create_database: removed old file: %s', db)\n",
    "except:\n",
    "    pass\n",
    "engine = create_engine('sqlite:///{}'.format(db) , echo=False) #  if we want spam\n",
    "\n",
    "# Establishing a session\n",
    "Session = sessionmaker(bind=engine)\n",
    "session = Session()\n",
    "setup_database(engine)"
   ]
  },
  {
   "cell_type": "code",
   "execution_count": null,
   "metadata": {},
   "outputs": [],
   "source": [
    "%% time\n",
    "for i, entry_id in enumerate(SIM_IDS):\n",
    "    meta = METAS[i]\n",
    "    try:\n",
    "        description = meta['note']\n",
    "    except KeyError:\n",
    "        description = \"\"\n",
    "    sim = Main(\n",
    "        entry_id    = entry_id,\n",
    "        path        = PATHS[i],\n",
    "        sim_type    = \"GROMACS\",\n",
    "        description = description\n",
    "    )\n",
    "    session.add(sim)\n",
    "    session.flush()\n",
    "    \n",
    "    for k, v in meta.iteritems():\n",
    "        if k != 'note':\n",
    "            key = Keywords(\n",
    "                main_id = sim.id,\n",
    "                name = k,\n",
    "                value = v\n",
    "            )\n",
    "            session.add(key)\n",
    "session.commit()\n",
    "session.close()"
   ]
  },
  {
   "cell_type": "code",
   "execution_count": null,
   "metadata": {},
   "outputs": [],
   "source": []
  },
  {
   "cell_type": "code",
   "execution_count": null,
   "metadata": {},
   "outputs": [],
   "source": [
    "SIM_IDS"
   ]
  },
  {
   "cell_type": "code",
   "execution_count": null,
   "metadata": {},
   "outputs": [],
   "source": []
  }
 ],
 "metadata": {
  "kernelspec": {
   "display_name": "Python 2",
   "language": "python",
   "name": "python2"
  },
  "language_info": {
   "codemirror_mode": {
    "name": "ipython",
    "version": 2
   },
   "file_extension": ".py",
   "mimetype": "text/x-python",
   "name": "python",
   "nbconvert_exporter": "python",
   "pygments_lexer": "ipython2",
   "version": "2.7.12"
  },
  "toc": {
   "nav_menu": {},
   "number_sections": true,
   "sideBar": true,
   "skip_h1_title": false,
   "toc_cell": false,
   "toc_position": {},
   "toc_section_display": true,
   "toc_window_display": false
  }
 },
 "nbformat": 4,
 "nbformat_minor": 2
}
