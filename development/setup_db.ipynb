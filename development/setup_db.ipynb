{
 "cells": [
  {
   "cell_type": "code",
   "execution_count": 1,
   "metadata": {},
   "outputs": [],
   "source": [
    "import os\n",
    "import logging\n",
    "import pandas as pd\n",
    "logger = logging.getLogger('LabJournal')\n",
    "logging.basicConfig(level=logging.DEBUG)"
   ]
  },
  {
   "cell_type": "code",
   "execution_count": 2,
   "metadata": {},
   "outputs": [],
   "source": [
    "import sys\n",
    "# sys.path.append(\"../../..\") # need this if labjournal is not installed\n",
    "\n",
    "from labjournal.utils.fileFinder import FileFinder\n",
    "from labjournal.core.databaseModel import *"
   ]
  },
  {
   "cell_type": "code",
   "execution_count": 3,
   "metadata": {},
   "outputs": [],
   "source": [
    "SIMS = '/home/andrejb/Research/SIMS'"
   ]
  },
  {
   "cell_type": "code",
   "execution_count": 4,
   "metadata": {},
   "outputs": [
    {
     "name": "stderr",
     "output_type": "stream",
     "text": [
      "INFO:LabJournal:FileFinder: pattern: topol.tpr\n",
      "INFO:LabJournal:FileFinder: path: /home/andrejb/Research/SIMS\n",
      "INFO:LabJournal:FileFinder: dir_ignore: ['data']\n"
     ]
    }
   ],
   "source": [
    "fileFinder = FileFinder(\n",
    "    pattern = 'topol.tpr',\n",
    "    path = SIMS,\n",
    "    dir_ignore = ['data'])"
   ]
  },
  {
   "cell_type": "code",
   "execution_count": 5,
   "metadata": {},
   "outputs": [
    {
     "name": "stderr",
     "output_type": "stream",
     "text": [
      "INFO:LabJournal:create_database:create_database: FIND FILES\n"
     ]
    }
   ],
   "source": [
    "logger.info('create_database:create_database: FIND FILES')\n",
    "ERRORS=False\n",
    "WARNINGS=False"
   ]
  },
  {
   "cell_type": "code",
   "execution_count": 13,
   "metadata": {},
   "outputs": [
    {
     "name": "stderr",
     "output_type": "stream",
     "text": [
      "/usr/local/lib/python2.7/dist-packages/pandas/core/series.py:2890: FutureWarning: from_csv is deprecated. Please use read_csv(...) instead. Note that some of the default arguments are different, so please refer to the documentation for from_csv when changing your function calls\n",
      "  infer_datetime_format=infer_datetime_format)\n"
     ]
    }
   ],
   "source": [
    "SIM_IDS=[]\n",
    "PATHS=[]\n",
    "METAS=[]\n",
    "\n",
    "for fname in fileFinder.find_files():\n",
    "    path =  os.path.dirname(fname)\n",
    "    sim_id = os.path.basename(path)\n",
    "    meta = pd.Series.from_csv(os.path.join(path, \"meta.csv\"))\n",
    "    SIM_IDS.append(sim_id)\n",
    "    PATHS.append(path)\n",
    "    METAS.append(meta)"
   ]
  },
  {
   "cell_type": "code",
   "execution_count": 31,
   "metadata": {},
   "outputs": [],
   "source": [
    "db = 'andrej_raw.db'\n",
    "db = '/home/andrejb/Research/SIMS.db'\n",
    "# remove old DB\n",
    "try:\n",
    "    os.remove(db)\n",
    "    logger.info('create_database:create_database: removed old file: %s', db)\n",
    "except:\n",
    "    pass\n",
    "engine = create_engine('sqlite:///{}'.format(db) , echo=False) #  if we want spam\n",
    "\n",
    "# Establishing a session\n",
    "Session = sessionmaker(bind=engine)\n",
    "session = Session()\n",
    "setup_database(engine)"
   ]
  },
  {
   "cell_type": "code",
   "execution_count": 32,
   "metadata": {},
   "outputs": [],
   "source": [
    "for i, entry_id in enumerate(SIM_IDS):\n",
    "    meta = METAS[i]\n",
    "    try:\n",
    "        description = meta['note']\n",
    "    except KeyError:\n",
    "        description = \"\"\n",
    "    sim = Main(\n",
    "        entry_id    = entry_id,\n",
    "        path        = PATHS[i],\n",
    "        sim_type    = \"GROMACS\",\n",
    "        description = description\n",
    "    )\n",
    "    session.add(sim)\n",
    "    session.flush()\n",
    "    \n",
    "    for k, v in meta.iteritems():\n",
    "        if k != 'note':\n",
    "            key = Keywords(\n",
    "                main_id = sim.id,\n",
    "                name = k,\n",
    "                value = v\n",
    "            )\n",
    "            session.add(key)\n",
    "session.commit()\n",
    "session.close()"
   ]
  },
  {
   "cell_type": "code",
   "execution_count": null,
   "metadata": {},
   "outputs": [],
   "source": []
  }
 ],
 "metadata": {
  "kernelspec": {
   "display_name": "Python 2",
   "language": "python",
   "name": "python2"
  },
  "language_info": {
   "codemirror_mode": {
    "name": "ipython",
    "version": 2
   },
   "file_extension": ".py",
   "mimetype": "text/x-python",
   "name": "python",
   "nbconvert_exporter": "python",
   "pygments_lexer": "ipython2",
   "version": "2.7.12"
  },
  "toc": {
   "base_numbering": 1.0,
   "nav_menu": {},
   "number_sections": true,
   "sideBar": true,
   "skip_h1_title": false,
   "title_cell": "Table of Contents",
   "title_sidebar": "Contents",
   "toc_cell": false,
   "toc_position": {},
   "toc_section_display": true,
   "toc_window_display": false
  }
 },
 "nbformat": 4,
 "nbformat_minor": 2
}
